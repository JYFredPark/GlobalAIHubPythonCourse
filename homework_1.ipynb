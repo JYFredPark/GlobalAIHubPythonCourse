{
 "cells": [
  {
   "cell_type": "code",
   "execution_count": 19,
   "metadata": {},
   "outputs": [
    {
     "name": "stdout",
     "output_type": "stream",
     "text": [
      "[7, 4, 3] 5 [1, 5, 6]\n"
     ]
    }
   ],
   "source": [
    "test_list=[1,5,6,5,7,4,3]\n",
    "first_half_even = int(len(test_list)/2)\n",
    "second_half_even = int(len(test_list)/2)\n",
    "list_len = int(len(test_list))\n",
    "\n",
    "first_half_odd = int((len(test_list)-1)/2)\n",
    "second_half_even = int((len(test_list)+1)/2)\n",
    "middle = int((len(test_list)-1)/2)\n",
    "if len(test_list) % 2 == 0:\n",
    "    print(test_list[second_half_even:list_len],test_list[0:first_half_even])\n",
    "else:\n",
    "    print(test_list[second_half_even:list_len],test_list[middle],test_list[0:first_half_odd])\n"
   ]
  },
  {
   "cell_type": "code",
   "execution_count": 30,
   "metadata": {},
   "outputs": [
    {
     "name": "stdout",
     "output_type": "stream",
     "text": [
      "Please enter a single digit integer2\n",
      " 0\n",
      " 2\n"
     ]
    }
   ],
   "source": [
    "n =input(\"Please enter a single digit integer\")\n",
    "for i in range(int(n)+1):\n",
    "    if i % 2 == 0:\n",
    "        print(\"\",i)"
   ]
  }
 ],
 "metadata": {
  "kernelspec": {
   "display_name": "Python 3",
   "language": "python",
   "name": "python3"
  },
  "language_info": {
   "codemirror_mode": {
    "name": "ipython",
    "version": 3
   },
   "file_extension": ".py",
   "mimetype": "text/x-python",
   "name": "python",
   "nbconvert_exporter": "python",
   "pygments_lexer": "ipython3",
   "version": "3.8.5"
  }
 },
 "nbformat": 4,
 "nbformat_minor": 4
}
